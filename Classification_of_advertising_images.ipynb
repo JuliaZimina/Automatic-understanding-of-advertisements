{
  "nbformat": 4,
  "nbformat_minor": 0,
  "metadata": {
    "colab": {
      "name": "Classification of advertising images.ipynb",
      "provenance": []
    },
    "kernelspec": {
      "name": "python3",
      "display_name": "Python 3"
    },
    "language_info": {
      "name": "python"
    }
  },
  "cells": [
    {
      "cell_type": "code",
      "metadata": {
        "colab": {
          "base_uri": "https://localhost:8080/"
        },
        "id": "vQdOCSWBtUwV",
        "outputId": "a8384111-912c-417d-ac10-c9cc17815fbd"
      },
      "source": [
        "from google.colab import drive\n",
        "drive.mount('/content/drive')"
      ],
      "execution_count": null,
      "outputs": [
        {
          "output_type": "stream",
          "text": [
            "Mounted at /content/drive\n"
          ],
          "name": "stdout"
        }
      ]
    },
    {
      "cell_type": "code",
      "metadata": {
        "id": "qVpdS1mJp622"
      },
      "source": [
        "!unzip -qq '/content/drive/MyDrive/Colab Notebooks/data/adata.zip' -d ./data/"
      ],
      "execution_count": null,
      "outputs": []
    },
    {
      "cell_type": "code",
      "metadata": {
        "id": "BRIJmnbym8LR"
      },
      "source": [
        "import keras\n",
        "from keras.models import Sequential,Model\n",
        "from keras.layers import Dense, Activation, Dropout, Flatten,\\\n",
        " Conv2D, MaxPool2D,GlobalAveragePooling2D,Input\n",
        "from keras.optimizers import Adam\n",
        "from keras.optimizers import SGD\n",
        "from tensorflow.keras.datasets import fashion_mnist\n",
        "from tensorflow.keras import utils\n",
        "import numpy as np\n",
        "import pandas as pd\n",
        "import cv2\n",
        "from tensorflow.keras.models import Model\n",
        "import matplotlib.pyplot as plt\n",
        "import json"
      ],
      "execution_count": null,
      "outputs": []
    },
    {
      "cell_type": "code",
      "metadata": {
        "id": "FxJ2BRzCFprL"
      },
      "source": [
        "from keras_preprocessing.image import ImageDataGenerator\n",
        "def create_gens(function):\n",
        "  train_path=\"./data/adata\"\n",
        "  train_datagen=ImageDataGenerator(preprocessing_function = function,\n",
        "                                  rotation_range=30.,\n",
        "                                    shear_range=0.2,\n",
        "                                    zoom_range=0.2,\n",
        "                                    width_shift_range=0.2,\n",
        "                                    height_shift_range=0.2,validation_split=0.1\n",
        "                                  )\n",
        "  train_generator=train_datagen.flow_from_directory(\n",
        "  directory=train_path,  subset='training',\n",
        "      batch_size=128)\n",
        "  validation_generator = train_datagen.flow_from_directory(\n",
        "    directory=train_path, class_mode=\"categorical\", subset='validation',\n",
        "    batch_size=32)\n",
        "  return train_generator, validation_generator\n"
      ],
      "execution_count": null,
      "outputs": []
    },
    {
      "cell_type": "code",
      "metadata": {
        "id": "SsmpMGpZhDhw"
      },
      "source": [
        "from keras.optimizers import Adam\n",
        "optimizer1=keras.optimizers.Adam()"
      ],
      "execution_count": null,
      "outputs": []
    },
    {
      "cell_type": "code",
      "metadata": {
        "id": "4i9RTV3ChD1a"
      },
      "source": [
        "from keras.optimizers import SGD\n",
        "optimizer2=SGD(lr=0.1, momentum=0.9,nesterov=True)"
      ],
      "execution_count": null,
      "outputs": []
    },
    {
      "cell_type": "code",
      "metadata": {
        "id": "6S9EsQh_xTW6"
      },
      "source": [
        "def acccuracy_plot(history):\n",
        "  plt.figure(figsize=(10, 5))\n",
        "  plt.figure(figsize=(10, 5))\n",
        "  plt.plot(history.history['accuracy'], label='Точность на обучающем наборе')\n",
        "  plt.plot(history.history['val_accuracy'], label='Точность на проверочном наборе')\n",
        "  plt.xlabel('Эпоха обучения')\n",
        "  plt.ylabel('Точность')\n",
        "  plt.legend()\n",
        "  plt.show()"
      ],
      "execution_count": null,
      "outputs": []
    },
    {
      "cell_type": "markdown",
      "metadata": {
        "id": "koOWONS3OaIE"
      },
      "source": [
        "ResNet50"
      ]
    },
    {
      "cell_type": "code",
      "metadata": {
        "id": "NkxArpwVrzTu"
      },
      "source": [
        "from keras.applications.resnet import preprocess_input as resnet_preprocess\n",
        "train_generator, validation_generator=create_gens(resnet_preprocess)\n",
        "step_size_valid=validation_generator.n//validation_generator.batch_size\n",
        "step_size_train=train_generator.n//train_generator.batch_size"
      ],
      "execution_count": null,
      "outputs": []
    },
    {
      "cell_type": "code",
      "metadata": {
        "id": "L7qgKYzy2WlU"
      },
      "source": [
        "from keras.applications.resnet import ResNet50\n",
        "model=ResNet50(weights='imagenet', include_top=False,input_shape=train_generator.image_shape)\n",
        "model.trainable = True\n",
        "x = model.output\n",
        "x = Flatten()(x)\n",
        "x = Dropout(0.5)(x)\n",
        "x = Dense(23, activation='softmax')(x)\n",
        "model = Model(inputs=model.input, outputs=x)\n",
        "model.compile(optimizer=optimizer1, loss=keras.losses.categorical_crossentropy, metrics=['accuracy'])\n"
      ],
      "execution_count": null,
      "outputs": []
    },
    {
      "cell_type": "code",
      "metadata": {
        "id": "vB_yfsapSBrj"
      },
      "source": [
        "history=model.fit_generator(generator=train_generator,\n",
        "                    steps_per_epoch=step_size_train,\n",
        "                    validation_data=validation_generator,\n",
        "                    validation_steps=step_size_valid,\n",
        "                    epochs=30, verbose=1,shuffle=True)"
      ],
      "execution_count": null,
      "outputs": []
    },
    {
      "cell_type": "code",
      "metadata": {
        "id": "-1inynJonGx9"
      },
      "source": [
        "model_path='/content/drive/MyDrive/Colab Notebooks/model/resnet50.h5'"
      ],
      "execution_count": null,
      "outputs": []
    },
    {
      "cell_type": "code",
      "metadata": {
        "id": "uYEf6nTFttE9"
      },
      "source": [
        "model.save(model_path)"
      ],
      "execution_count": null,
      "outputs": []
    },
    {
      "cell_type": "code",
      "metadata": {
        "id": "W6GicRvJjedD"
      },
      "source": [
        "history_dict = history.history\n",
        "your_history_path='/content/drive/MyDrive/Colab Notebooks/model/resnet50_history2.json'\n",
        "json.dump(history_dict, open(your_history_path, 'w'))"
      ],
      "execution_count": null,
      "outputs": []
    },
    {
      "cell_type": "code",
      "metadata": {
        "id": "8OzEaW5VutWA"
      },
      "source": [
        "your_history_path='/content/drive/MyDrive/Colab Notebooks/model/resnet50_history2.json'\n",
        "with open(your_history_path) as json_file:\n",
        "    data = json.load(json_file)"
      ],
      "execution_count": null,
      "outputs": []
    },
    {
      "cell_type": "code",
      "metadata": {
        "id": "_UlasaKAPAUs"
      },
      "source": [
        "model=keras.models.load_model('/content/drive/MyDrive/Colab Notebooks/model/resnet50.h5')"
      ],
      "execution_count": null,
      "outputs": []
    },
    {
      "cell_type": "code",
      "metadata": {
        "id": "KpTKGiJ1Sw_T"
      },
      "source": [
        "preds1=model.predict_generator(validation_generator)"
      ],
      "execution_count": null,
      "outputs": []
    },
    {
      "cell_type": "code",
      "metadata": {
        "id": "6RK_g1TqhZQu"
      },
      "source": [
        "predicted_class_indices=np.argmax(preds1,axis=1)"
      ],
      "execution_count": null,
      "outputs": []
    },
    {
      "cell_type": "code",
      "metadata": {
        "colab": {
          "base_uri": "https://localhost:8080/"
        },
        "id": "IXz07gcuRyyY",
        "outputId": "773f42e3-c814-4cf1-c2bb-b00d9e8ae620"
      },
      "source": [
        "from sklearn.metrics import accuracy_score\n",
        "accuracy_score(validation_generator.labels, predicted_class_indices)"
      ],
      "execution_count": 1,
      "outputs": [
        {
          "output_type": "stream",
          "text": [
            "0.6045771543086172\n"
          ],
          "name": "stdout"
        }
      ]
    },
    {
      "cell_type": "code",
      "metadata": {
        "colab": {
          "base_uri": "https://localhost:8080/",
          "height": 334
        },
        "id": "QT69_sZ2utWN",
        "outputId": "cb0d3c50-918e-4218-922d-973e26cc0a6f"
      },
      "source": [
        "plt.figure(figsize=(10, 5))\n",
        "plt.plot(data['val_accuracy'], label='Точность на проверочном наборе')\n",
        "plt.plot(data['accuracy'], label='Точность на обучающем наборе')\n",
        "plt.xlabel('Эпоха обучения')\n",
        "plt.ylabel('Точность')\n",
        "plt.legend()\n",
        "plt.show()"
      ],
      "execution_count": null,
      "outputs": [
        {
          "output_type": "display_data",
          "data": {
            "image/png": "[encoded data removed]",
            "text/plain": [
              "<Figure size 720x360 with 1 Axes>"
            ]
          },
          "metadata": {
            "tags": []
          }
        }
      ]
    },
    {
      "cell_type": "markdown",
      "metadata": {
        "id": "ue4U4I9DUI58"
      },
      "source": [
        "DenseNet169"
      ]
    },
    {
      "cell_type": "code",
      "metadata": {
        "id": "s_XonNdewrXc"
      },
      "source": [
        "from tensorflow.keras.applications.densenet import preprocess_input as preprocess\n",
        "train_generator, validation_generator=create_gens(preprocess)\n",
        "step_size_valid=validation_generator.n//validation_generator.batch_size\n",
        "step_size_train=train_generator.n//train_generator.batch_size"
      ],
      "execution_count": null,
      "outputs": []
    },
    {
      "cell_type": "code",
      "metadata": {
        "id": "x7CQzrdv0b_z"
      },
      "source": [
        "from tensorflow.keras.applications import DenseNet169\n",
        "model = DenseNet169(weights='imagenet', include_top=False)\n",
        "model.trainable = True\n",
        "x = model.output\n",
        "x = GlobalAveragePooling2D(name='avg_pool')(x)\n",
        "x = Dense(23, activation='softmax')(x)\n",
        "model = Model(inputs=model.input, outputs=x)\n",
        "model.compile(optimizer=optimizer1, loss=keras.losses.categorical_crossentropy, metrics=['accuracy'])"
      ],
      "execution_count": null,
      "outputs": []
    },
    {
      "cell_type": "code",
      "metadata": {
        "id": "RYOWUo1lWXCG"
      },
      "source": [
        "history=model.fit_generator(generator=train_generator,\n",
        "                    steps_per_epoch=step_size_train,\n",
        "                    validation_data=validation_generator,\n",
        "                    validation_steps=step_size_valid,\n",
        "                    epochs=30, verbose=1,shuffle=True)"
      ],
      "execution_count": null,
      "outputs": []
    },
    {
      "cell_type": "code",
      "metadata": {
        "id": "BgHjZJN4WXCH"
      },
      "source": [
        "model_path='/content/drive/MyDrive/Colab Notebooks/model/DenseNet169.h5'"
      ],
      "execution_count": null,
      "outputs": []
    },
    {
      "cell_type": "code",
      "metadata": {
        "id": "bEGReQSNWXCH"
      },
      "source": [
        "model.save(model_path)"
      ],
      "execution_count": null,
      "outputs": []
    },
    {
      "cell_type": "code",
      "metadata": {
        "id": "mJLpg-AmW5aB"
      },
      "source": [
        "your_history_path='/content/drive/MyDrive/Colab Notebooks/model/DenseNet169_history.json'"
      ],
      "execution_count": null,
      "outputs": []
    },
    {
      "cell_type": "code",
      "metadata": {
        "id": "qmRoR1DbWu1-"
      },
      "source": [
        "history_dict = history.history\n",
        "json.dump(history_dict, open(your_history_path, 'w'))"
      ],
      "execution_count": null,
      "outputs": []
    },
    {
      "cell_type": "code",
      "metadata": {
        "id": "lthPernYWXCI"
      },
      "source": [
        "with open(your_history_path) as json_file:\n",
        "    data = json.load(json_file)"
      ],
      "execution_count": null,
      "outputs": []
    },
    {
      "cell_type": "code",
      "metadata": {
        "id": "RuY9tLA9WXCI"
      },
      "source": [
        "model=keras.models.load_model(model_path)"
      ],
      "execution_count": null,
      "outputs": []
    },
    {
      "cell_type": "code",
      "metadata": {
        "id": "x82Fbq9zWXCI"
      },
      "source": [
        "preds1=model.predict_generator(validation_generator)"
      ],
      "execution_count": null,
      "outputs": []
    },
    {
      "cell_type": "code",
      "metadata": {
        "id": "yssgVtlNWXCK"
      },
      "source": [
        "predicted_class_indices=np.argmax(preds1,axis=1)"
      ],
      "execution_count": null,
      "outputs": []
    },
    {
      "cell_type": "code",
      "metadata": {
        "colab": {
          "base_uri": "https://localhost:8080/"
        },
        "id": "tcjiWSJ7W9uK",
        "outputId": "97beccd2-2e0d-475a-c6e5-ec754d5ef21a"
      },
      "source": [
        "from sklearn.metrics import accuracy_score\n",
        "accuracy_score(validation_generator.labels, predicted_class_indices)"
      ],
      "execution_count": 2,
      "outputs": [
        {
          "output_type": "execute_result",
          "data": {
            "text/plain": [
              "0.6328772991096165"
            ]
          },
          "metadata": {
            "tags": []
          },
          "execution_count": 2
        }
      ]
    },
    {
      "cell_type": "code",
      "metadata": {
        "colab": {
          "base_uri": "https://localhost:8080/",
          "height": 334
        },
        "id": "0tWOFel9-tL4",
        "outputId": "2b801602-434a-46d4-871b-73a03594d05c"
      },
      "source": [
        "plt.figure(figsize=(10, 5))\n",
        "plt.plot(data['val_accuracy'], label='Точность на проверочном наборе')\n",
        "plt.plot(data['accuracy'], label='Точность на обучающем наборе')\n",
        "plt.xlabel('Эпоха обучения')\n",
        "plt.ylabel('Точность')\n",
        "plt.legend()\n",
        "plt.show()"
      ],
      "execution_count": null,
      "outputs": [
        {
          "output_type": "display_data",
          "data": {
            "image/png": "[encoded data removed]",
            "text/plain": [
              "<Figure size 720x360 with 1 Axes>"
            ]
          },
          "metadata": {
            "tags": []
          }
        }
      ]
    },
    {
      "cell_type": "markdown",
      "metadata": {
        "id": "YDaamf1kZcNT"
      },
      "source": [
        "InceptionResNetV2"
      ]
    },
    {
      "cell_type": "code",
      "metadata": {
        "id": "dS5woXLZZcNU"
      },
      "source": [
        "from tensorflow.keras.applications.inception_resnet_v2 import preprocess_input as preprocess\n",
        "train_generator, validation_generator=create_gens(preprocess)\n",
        "step_size_valid=validation_generator.n//validation_generator.batch_size\n",
        "step_size_train=train_generator.n//train_generator.batch_size"
      ],
      "execution_count": null,
      "outputs": []
    },
    {
      "cell_type": "code",
      "metadata": {
        "id": "WyJixrNbZkj4"
      },
      "source": [
        "from tensorflow.keras.applications.inception_resnet_v2 import InceptionResNetV2\n",
        "model = InceptionResNetV2(weights='imagenet', include_top=False)\n",
        "model.trainable = True\n",
        "x = model.output\n",
        "x = GlobalAveragePooling2D(name='avg_pool')(x)\n",
        "x = Dense(23, activation='softmax')(x)\n",
        "model = Model(inputs=model.input, outputs=x)\n",
        "model.compile(optimizer=optimizer1, loss=keras.losses.categorical_crossentropy, metrics=['accuracy'])"
      ],
      "execution_count": null,
      "outputs": []
    },
    {
      "cell_type": "code",
      "metadata": {
        "id": "pqGjHlsxZkj5"
      },
      "source": [
        "history=model.fit_generator(generator=train_generator,\n",
        "                    steps_per_epoch=step_size_train,\n",
        "                    validation_data=validation_generator,\n",
        "                    validation_steps=step_size_valid,\n",
        "                    epochs=30, verbose=1,shuffle=True)"
      ],
      "execution_count": null,
      "outputs": []
    },
    {
      "cell_type": "code",
      "metadata": {
        "id": "6ZZICW9YZkj6"
      },
      "source": [
        "model_path='/content/drive/MyDrive/Colab Notebooks/model/InceptionResNetV2.h5'"
      ],
      "execution_count": null,
      "outputs": []
    },
    {
      "cell_type": "code",
      "metadata": {
        "id": "-yQughCQZkj7"
      },
      "source": [
        "model.save(model_path)"
      ],
      "execution_count": null,
      "outputs": []
    },
    {
      "cell_type": "code",
      "metadata": {
        "id": "Gw7pKnrnZkj7"
      },
      "source": [
        "your_history_path='/content/drive/MyDrive/Colab Notebooks/model/InceptionResNetV2_history.json'"
      ],
      "execution_count": null,
      "outputs": []
    },
    {
      "cell_type": "code",
      "metadata": {
        "id": "-KLUmLdGZkj8"
      },
      "source": [
        "history_dict = history.history\n",
        "json.dump(history_dict, open(your_history_path, 'w'))"
      ],
      "execution_count": null,
      "outputs": []
    },
    {
      "cell_type": "code",
      "metadata": {
        "id": "P0tB3n4xZkj8"
      },
      "source": [
        "with open(your_history_path) as json_file:\n",
        "    data = json.load(json_file)"
      ],
      "execution_count": null,
      "outputs": []
    },
    {
      "cell_type": "code",
      "metadata": {
        "id": "DAzJ03-AZkj9"
      },
      "source": [
        "model=keras.models.load_model(model_path)"
      ],
      "execution_count": null,
      "outputs": []
    },
    {
      "cell_type": "code",
      "metadata": {
        "id": "IT4JneQsZkj-"
      },
      "source": [
        "preds1=model.predict_generator(validation_generator)"
      ],
      "execution_count": null,
      "outputs": []
    },
    {
      "cell_type": "code",
      "metadata": {
        "id": "BB2OFWHUZkj-"
      },
      "source": [
        "predicted_class_indices=np.argmax(preds1,axis=1)"
      ],
      "execution_count": null,
      "outputs": []
    },
    {
      "cell_type": "code",
      "metadata": {
        "colab": {
          "base_uri": "https://localhost:8080/"
        },
        "id": "mKtwjO0BZ6Ix",
        "outputId": "4e847507-4c23-4f30-9612-438398756745"
      },
      "source": [
        "from sklearn.metrics import accuracy_score\n",
        "accuracy_score(validation_generator.labels, predicted_class_indices)"
      ],
      "execution_count": 3,
      "outputs": [
        {
          "output_type": "execute_result",
          "data": {
            "text/plain": [
              "0.6155903911412178"
            ]
          },
          "metadata": {
            "tags": []
          },
          "execution_count": 3
        }
      ]
    },
    {
      "cell_type": "code",
      "metadata": {
        "colab": {
          "base_uri": "https://localhost:8080/",
          "height": 334
        },
        "id": "cUI_dlYML-vC",
        "outputId": "3bea4b77-96a2-4109-87e4-d336ef65fcb3"
      },
      "source": [
        "plt.figure(figsize=(10, 5))\n",
        "plt.plot(data['val_accuracy'], label='Точность на проверочном наборе')\n",
        "plt.plot(data['accuracy'], label='Точность на обучающем наборе')\n",
        "plt.xlabel('Эпоха обучения')\n",
        "plt.ylabel('Точность')\n",
        "plt.legend()\n",
        "plt.show()"
      ],
      "execution_count": null,
      "outputs": [
        {
          "output_type": "display_data",
          "data": {
            "image/png": "[encoded data removed]",
            "text/plain": [
              "<Figure size 720x360 with 1 Axes>"
            ]
          },
          "metadata": {
            "tags": []
          }
        }
      ]
    },
    {
      "cell_type": "markdown",
      "metadata": {
        "id": "G548Jp_Tak3P"
      },
      "source": [
        "EfficientNetB3"
      ]
    },
    {
      "cell_type": "code",
      "metadata": {
        "id": "r2QLvsx6ajWd"
      },
      "source": [
        "from tensorflow.keras.applications.efficientnet import preprocess_input as preprocess\n",
        "train_generator, validation_generator=create_gens(preprocess)\n",
        "step_size_valid=validation_generator.n//validation_generator.batch_size\n",
        "step_size_train=train_generator.n//train_generator.batch_size"
      ],
      "execution_count": null,
      "outputs": []
    },
    {
      "cell_type": "code",
      "metadata": {
        "id": "RwoWUNfU19KS"
      },
      "source": [
        "from tensorflow.keras.applications import EfficientNetB3\n",
        "model = EfficientNetB3(weights='imagenet', include_top=False)\n",
        "model.trainable = True\n",
        "x = model.output\n",
        "x = GlobalMaxPooling2D(name='max_pool')(x)\n",
        "x = Dense(23, activation='softmax')(x)\n",
        "model = Model(inputs=model.input, outputs=x)\n",
        "model.compile(optimizer=optimizer, loss=keras.losses.categorical_crossentropy, metrics=['accuracy'])"
      ],
      "execution_count": null,
      "outputs": []
    },
    {
      "cell_type": "code",
      "metadata": {
        "id": "kh2X4jwiaugf"
      },
      "source": [
        "history=model.fit_generator(generator=train_generator,\n",
        "                    steps_per_epoch=step_size_train,\n",
        "                    validation_data=validation_generator,\n",
        "                    validation_steps=step_size_valid,\n",
        "                    epochs=30, verbose=1,shuffle=True)"
      ],
      "execution_count": null,
      "outputs": []
    },
    {
      "cell_type": "code",
      "metadata": {
        "id": "XyZW69iHaugh"
      },
      "source": [
        "model_path='/content/drive/MyDrive/Colab Notebooks/model/EfficientNetB3.h5'"
      ],
      "execution_count": null,
      "outputs": []
    },
    {
      "cell_type": "code",
      "metadata": {
        "id": "J6XSD_rSaugi"
      },
      "source": [
        "model.save(model_path)"
      ],
      "execution_count": null,
      "outputs": []
    },
    {
      "cell_type": "code",
      "metadata": {
        "id": "HWKn1KC0augj"
      },
      "source": [
        "your_history_path='/content/drive/MyDrive/Colab Notebooks/model/EfficientNetB3.json'"
      ],
      "execution_count": null,
      "outputs": []
    },
    {
      "cell_type": "code",
      "metadata": {
        "id": "cGa6mT-kaugj"
      },
      "source": [
        "history_dict = history.history\n",
        "json.dump(history_dict, open(your_history_path, 'w'))"
      ],
      "execution_count": null,
      "outputs": []
    },
    {
      "cell_type": "code",
      "metadata": {
        "id": "5RrCW153augl"
      },
      "source": [
        "with open(your_history_path) as json_file:\n",
        "    data = json.load(json_file)"
      ],
      "execution_count": null,
      "outputs": []
    },
    {
      "cell_type": "code",
      "metadata": {
        "id": "KeXXQla4augl"
      },
      "source": [
        "model=keras.models.load_model(model_path)"
      ],
      "execution_count": null,
      "outputs": []
    },
    {
      "cell_type": "code",
      "metadata": {
        "id": "DMMHcPUSaugn"
      },
      "source": [
        "preds1=model.predict_generator(validation_generator)"
      ],
      "execution_count": null,
      "outputs": []
    },
    {
      "cell_type": "code",
      "metadata": {
        "id": "_1us1cv_augo"
      },
      "source": [
        "predicted_class_indices=np.argmax(preds1,axis=1)"
      ],
      "execution_count": null,
      "outputs": []
    },
    {
      "cell_type": "code",
      "metadata": {
        "colab": {
          "base_uri": "https://localhost:8080/"
        },
        "id": "PYhSycFAbJuu",
        "outputId": "61d2ebd9-10f2-4aea-a136-0509f4f479d2"
      },
      "source": [
        "from sklearn.metrics import accuracy_score\n",
        "accuracy_score(validation_generator.labels, predicted_class_indices)"
      ],
      "execution_count": 4,
      "outputs": [
        {
          "output_type": "execute_result",
          "data": {
            "text/plain": [
              "0.634610995671327"
            ]
          },
          "metadata": {
            "tags": []
          },
          "execution_count": 4
        }
      ]
    },
    {
      "cell_type": "code",
      "metadata": {
        "colab": {
          "base_uri": "https://localhost:8080/",
          "height": 334
        },
        "id": "Gn4fnlqkoxko",
        "outputId": "1bc48159-2d0a-4188-bd89-859dbdb1edda"
      },
      "source": [
        "plt.figure(figsize=(10, 5))\n",
        "plt.plot(data['val_accuracy'], label='Точность на проверочном наборе')\n",
        "plt.plot(data['accuracy'], label='Точность на обучающем наборе')\n",
        "plt.xlabel('Эпоха обучения')\n",
        "plt.ylabel('Точность')\n",
        "plt.legend()\n",
        "plt.show()"
      ],
      "execution_count": null,
      "outputs": [
        {
          "output_type": "display_data",
          "data": {
            "image/png": "[encoded data removed]",
            "text/plain": [
              "<Figure size 720x360 with 1 Axes>"
            ]
          },
          "metadata": {
            "tags": []
          }
        }
      ]
    },
    {
      "cell_type": "markdown",
      "metadata": {
        "id": "0-s0ieQXbmH-"
      },
      "source": [
        "Ensembly\n"
      ]
    },
    {
      "cell_type": "code",
      "metadata": {
        "id": "5Vp0nDJezySu"
      },
      "source": [
        "densenet = keras.models.load_model('/content/drive/MyDrive/Colab Notebooks/model/DenseNet169.h5')\n",
        "efficientnet = keras.models.load_model('/content/drive/MyDrive/Colab Notebooks/model/EfficientNetB3.h5')\n",
        "incresnet= keras.models.load_model('/content/drive/MyDrive/Colab Notebooks/model/InceptionResNetV2.h5')\n",
        "resnet=keras.models.load_model('/content/drive/MyDrive/Colab Notebooks/model/resnet50.h5')"
      ],
      "execution_count": null,
      "outputs": []
    },
    {
      "cell_type": "code",
      "metadata": {
        "id": "7HhM5c4L4DHR"
      },
      "source": [
        "preds1=densenet.predict_generator(test_generator)\n",
        "preds2=efficientnet.predict_generator(test_generator)\n",
        "preds3=incresnet.predict_generator(test_generator)\n",
        "preds4=resnet.predict_generator(test_generator)"
      ],
      "execution_count": null,
      "outputs": []
    },
    {
      "cell_type": "code",
      "metadata": {
        "colab": {
          "base_uri": "https://localhost:8080/"
        },
        "id": "9Qupv4sOcDSp",
        "outputId": "182c5b8d-129b-4a48-f4ce-2f5b72317353"
      },
      "source": [
        "final_predictions=preds1+preds2+pred3+preds4\n",
        "predicted_class_indices=np.argmax(final_predictions,axis=1)\n",
        "result=accuracy_score(test_generator.labels, predicted_class_indices)\n",
        "print(result)"
      ],
      "execution_count": 5,
      "outputs": [
        {
          "output_type": "execute_result",
          "data": {
            "text/plain": [
              "0.570561122244489"
            ]
          },
          "metadata": {
            "tags": []
          },
          "execution_count": 5
        }
      ]
    },
    {
      "cell_type": "code",
      "metadata": {
        "colab": {
          "base_uri": "https://localhost:8080/"
        },
        "id": "vt3UGIKDcXKP",
        "outputId": "c8935f10-4351-4b4e-99a1-dccf7acb550d"
      },
      "source": [
        "final_predictions=preds1+preds2+pred3\n",
        "predicted_class_indices=np.argmax(final_predictions,axis=1)\n",
        "result=accuracy_score(test_generator.labels, predicted_class_indices)\n",
        "print(result)"
      ],
      "execution_count": 6,
      "outputs": [
        {
          "output_type": "execute_result",
          "data": {
            "text/plain": [
              "0.6245891783567135"
            ]
          },
          "metadata": {
            "tags": []
          },
          "execution_count": 6
        }
      ]
    },
    {
      "cell_type": "code",
      "metadata": {
        "colab": {
          "base_uri": "https://localhost:8080/"
        },
        "id": "GQjeztXg5Rlx",
        "outputId": "d69ac337-7f16-4bf2-8eb3-f36e186a0b18"
      },
      "source": [
        "final_predictions=preds1+preds2\n",
        "predicted_class_indices=np.argmax(final_predictions,axis=1)\n",
        "result=accuracy_score(test_generator.labels, predicted_class_indices)\n",
        "print(result)"
      ],
      "execution_count": null,
      "outputs": [
        {
          "output_type": "stream",
          "text": [
            "0.6612361798768251\n"
          ],
          "name": "stdout"
        }
      ]
    }
  ]
}